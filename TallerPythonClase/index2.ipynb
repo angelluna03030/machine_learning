{
 "cells": [
  {
   "cell_type": "code",
   "execution_count": 15,
   "metadata": {},
   "outputs": [],
   "source": [
    "import pandas as pd\n",
    "import numpy as np \n",
    "import matplotlib.pyplot as plt\n",
    "import statistics as  st\n"
   ]
  },
  {
   "cell_type": "code",
   "execution_count": 22,
   "metadata": {},
   "outputs": [],
   "source": [
    "\n",
    "# Leer la hoja específica del archivo de Excel\n",
    "datoSetD = pd.read_excel(\"Datosestadisticos.xlsx\", sheet_name=\"Cuantitativos_Discretos\")\n",
    "\n"
   ]
  },
  {
   "cell_type": "code",
   "execution_count": 23,
   "metadata": {},
   "outputs": [],
   "source": [
    "datoSetC = pd.read_excel(\"Datosestadisticos.xlsx\", sheet_name=\"Cuantitativos_Discretos\")\n"
   ]
  },
  {
   "cell_type": "code",
   "execution_count": 26,
   "metadata": {},
   "outputs": [
    {
     "name": "stdout",
     "output_type": "stream",
     "text": [
      "la media es: 38.04\n",
      "la virianza es: 9.957551020408163\n",
      "la varianza otro metodo: 9.957551020408163\n"
     ]
    }
   ],
   "source": [
    "media = datoSetD[\"Talla_Zapatos\"].mean()\n",
    "varianza = datoSetD[\"Talla_Zapatos\"].var()\n",
    "virianzaB = st.variance(datoSetD[\"Talla_Zapatos\"])\n",
    "\n",
    "\n",
    "print(f'la media es: {media}')\n",
    "print(f'la virianza es: {varianza}')\n",
    "print(f'la varianza otro metodo: {virianzaB}')\n",
    "\n"
   ]
  },
  {
   "cell_type": "code",
   "execution_count": 4,
   "metadata": {},
   "outputs": [
    {
     "ename": "NameError",
     "evalue": "name 'datoSetD' is not defined",
     "output_type": "error",
     "traceback": [
      "\u001b[1;31m---------------------------------------------------------------------------\u001b[0m",
      "\u001b[1;31mNameError\u001b[0m                                 Traceback (most recent call last)",
      "Cell \u001b[1;32mIn[4], line 1\u001b[0m\n\u001b[1;32m----> 1\u001b[0m cols \u001b[38;5;241m=\u001b[39m \u001b[43mdatoSetD\u001b[49m\u001b[38;5;241m.\u001b[39mcolumns\u001b[38;5;241m.\u001b[39mtolist()\n\u001b[0;32m      2\u001b[0m desviacionA \u001b[38;5;241m=\u001b[39m datoSetD[cols[\u001b[38;5;241m0\u001b[39m]]\u001b[38;5;241m.\u001b[39mstd()\n\u001b[0;32m      3\u001b[0m desviacionB \u001b[38;5;241m=\u001b[39m st\u001b[38;5;241m.\u001b[39mstdev(datoSetD[cols[\u001b[38;5;241m0\u001b[39m]])\n",
      "\u001b[1;31mNameError\u001b[0m: name 'datoSetD' is not defined"
     ]
    }
   ],
   "source": []
  }
 ],
 "metadata": {
  "kernelspec": {
   "display_name": "Python 3",
   "language": "python",
   "name": "python3"
  },
  "language_info": {
   "codemirror_mode": {
    "name": "ipython",
    "version": 3
   },
   "file_extension": ".py",
   "mimetype": "text/x-python",
   "name": "python",
   "nbconvert_exporter": "python",
   "pygments_lexer": "ipython3",
   "version": "3.12.3"
  }
 },
 "nbformat": 4,
 "nbformat_minor": 2
}
