{
 "cells": [
  {
   "cell_type": "code",
   "execution_count": 4,
   "metadata": {},
   "outputs": [],
   "source": [
    "\n",
    "import numpy as np\n",
    "import pandas as pd\n",
    "import matplotlib.pyplot as plt\n",
    "import seaborn as sns\n",
    "#RegreSió Lineal\n",
    "from sklearn.linear_model import LinearRegression\n",
    "from sklearn.model_selection import train_test_split\n",
    "\n",
    "#Evluacion del modelo\n",
    "\n",
    "from sklearn.metrics import mean_absolute_error\n"
   ]
  },
  {
   "cell_type": "code",
   "execution_count": 5,
   "metadata": {},
   "outputs": [],
   "source": [
    "df = pd.read_excel(\"Dataset_final.xlsx\")"
   ]
  },
  {
   "cell_type": "code",
   "execution_count": 6,
   "metadata": {},
   "outputs": [
    {
     "name": "stdout",
     "output_type": "stream",
     "text": [
      "<class 'pandas.core.frame.DataFrame'>\n",
      "RangeIndex: 295 entries, 0 to 294\n",
      "Data columns (total 15 columns):\n",
      " #   Column                     Non-Null Count  Dtype  \n",
      "---  ------                     --------------  -----  \n",
      " 0   Documento                  295 non-null    int64  \n",
      " 1   Nombre                     295 non-null    object \n",
      " 2   Apellidos                  295 non-null    object \n",
      " 3   Direccción                 295 non-null    object \n",
      " 4   Teléfono                   295 non-null    object \n",
      " 5   Edad                       295 non-null    int64  \n",
      " 6   Estatura                   295 non-null    float64\n",
      " 7   Área de residencia         294 non-null    object \n",
      " 8   Tipo colegio               294 non-null    object \n",
      " 9   Género                     294 non-null    object \n",
      " 10  Estrato                    294 non-null    float64\n",
      " 11  Nota Matematicas           294 non-null    float64\n",
      " 12  Nota Lecto Escritura       294 non-null    float64\n",
      " 13  Apoyo económico de padres  294 non-null    object \n",
      " 14  Último grado cursado       294 non-null    float64\n",
      "dtypes: float64(5), int64(2), object(8)\n",
      "memory usage: 34.7+ KB\n"
     ]
    }
   ],
   "source": [
    "df.info()"
   ]
  },
  {
   "cell_type": "code",
   "execution_count": 7,
   "metadata": {},
   "outputs": [
    {
     "name": "stdout",
     "output_type": "stream",
     "text": [
      "<class 'pandas.core.frame.DataFrame'>\n",
      "Index: 294 entries, 0 to 294\n",
      "Data columns (total 15 columns):\n",
      " #   Column                     Non-Null Count  Dtype  \n",
      "---  ------                     --------------  -----  \n",
      " 0   Documento                  294 non-null    int64  \n",
      " 1   Nombre                     294 non-null    object \n",
      " 2   Apellidos                  294 non-null    object \n",
      " 3   Direccción                 294 non-null    object \n",
      " 4   Teléfono                   294 non-null    object \n",
      " 5   Edad                       294 non-null    int64  \n",
      " 6   Estatura                   294 non-null    float64\n",
      " 7   Área de residencia         294 non-null    object \n",
      " 8   Tipo colegio               294 non-null    object \n",
      " 9   Género                     294 non-null    object \n",
      " 10  Estrato                    294 non-null    float64\n",
      " 11  Nota Matematicas           294 non-null    float64\n",
      " 12  Nota Lecto Escritura       294 non-null    float64\n",
      " 13  Apoyo económico de padres  294 non-null    object \n",
      " 14  Último grado cursado       294 non-null    float64\n",
      "dtypes: float64(5), int64(2), object(8)\n",
      "memory usage: 36.8+ KB\n"
     ]
    }
   ],
   "source": [
    "df.dropna(inplace=True)\n",
    "df.info()"
   ]
  },
  {
   "cell_type": "code",
   "execution_count": 8,
   "metadata": {},
   "outputs": [
    {
     "name": "stdout",
     "output_type": "stream",
     "text": [
      "<class 'pandas.core.frame.DataFrame'>\n",
      "Index: 294 entries, 0 to 294\n",
      "Data columns (total 15 columns):\n",
      " #   Column                     Non-Null Count  Dtype  \n",
      "---  ------                     --------------  -----  \n",
      " 0   Documento                  294 non-null    int64  \n",
      " 1   Nombre                     294 non-null    object \n",
      " 2   Apellidos                  294 non-null    object \n",
      " 3   Direccción                 294 non-null    object \n",
      " 4   Teléfono                   294 non-null    object \n",
      " 5   Edad                       294 non-null    int64  \n",
      " 6   Estatura                   294 non-null    float64\n",
      " 7   Área de residencia         294 non-null    object \n",
      " 8   Tipo colegio               294 non-null    object \n",
      " 9   Género                     294 non-null    object \n",
      " 10  Estrato                    294 non-null    float64\n",
      " 11  Nota Matematicas           294 non-null    float64\n",
      " 12  Nota Lecto Escritura       294 non-null    float64\n",
      " 13  Apoyo económico de padres  294 non-null    object \n",
      " 14  Último grado cursado       294 non-null    float64\n",
      "dtypes: float64(5), int64(2), object(8)\n",
      "memory usage: 36.8+ KB\n"
     ]
    }
   ],
   "source": [
    "df.drop_duplicates(inplace=True)\n",
    "df.info()\n",
    "\n"
   ]
  }
 ],
 "metadata": {
  "kernelspec": {
   "display_name": "Python 3",
   "language": "python",
   "name": "python3"
  },
  "language_info": {
   "codemirror_mode": {
    "name": "ipython",
    "version": 3
   },
   "file_extension": ".py",
   "mimetype": "text/x-python",
   "name": "python",
   "nbconvert_exporter": "python",
   "pygments_lexer": "ipython3",
   "version": "3.12.3"
  }
 },
 "nbformat": 4,
 "nbformat_minor": 2
}
