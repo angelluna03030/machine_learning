{
 "cells": [
  {
   "cell_type": "code",
   "execution_count": 2,
   "metadata": {},
   "outputs": [],
   "source": [
    "import pandas as pd\n",
    "import numpy as np\n",
    "import matplotlib.pyplot as plt"
   ]
  },
  {
   "cell_type": "code",
   "execution_count": 3,
   "metadata": {},
   "outputs": [],
   "source": [
    "dataset = pd.read_excel('impar.xlsx', sheet_name=\"Edad\") "
   ]
  },
  {
   "cell_type": "code",
   "execution_count": 4,
   "metadata": {},
   "outputs": [
    {
     "data": {
      "text/html": [
       "<div>\n",
       "<style scoped>\n",
       "    .dataframe tbody tr th:only-of-type {\n",
       "        vertical-align: middle;\n",
       "    }\n",
       "\n",
       "    .dataframe tbody tr th {\n",
       "        vertical-align: top;\n",
       "    }\n",
       "\n",
       "    .dataframe thead th {\n",
       "        text-align: right;\n",
       "    }\n",
       "</style>\n",
       "<table border=\"1\" class=\"dataframe\">\n",
       "  <thead>\n",
       "    <tr style=\"text-align: right;\">\n",
       "      <th></th>\n",
       "      <th>Edades</th>\n",
       "      <th>count</th>\n",
       "    </tr>\n",
       "  </thead>\n",
       "  <tbody>\n",
       "    <tr>\n",
       "      <th>0</th>\n",
       "      <td>16</td>\n",
       "      <td>11</td>\n",
       "    </tr>\n",
       "    <tr>\n",
       "      <th>1</th>\n",
       "      <td>18</td>\n",
       "      <td>11</td>\n",
       "    </tr>\n",
       "    <tr>\n",
       "      <th>2</th>\n",
       "      <td>17</td>\n",
       "      <td>10</td>\n",
       "    </tr>\n",
       "    <tr>\n",
       "      <th>3</th>\n",
       "      <td>19</td>\n",
       "      <td>9</td>\n",
       "    </tr>\n",
       "    <tr>\n",
       "      <th>4</th>\n",
       "      <td>20</td>\n",
       "      <td>4</td>\n",
       "    </tr>\n",
       "    <tr>\n",
       "      <th>5</th>\n",
       "      <td>22</td>\n",
       "      <td>2</td>\n",
       "    </tr>\n",
       "    <tr>\n",
       "      <th>6</th>\n",
       "      <td>21</td>\n",
       "      <td>2</td>\n",
       "    </tr>\n",
       "    <tr>\n",
       "      <th>7</th>\n",
       "      <td>15</td>\n",
       "      <td>1</td>\n",
       "    </tr>\n",
       "  </tbody>\n",
       "</table>\n",
       "</div>"
      ],
      "text/plain": [
       "   Edades  count\n",
       "0      16     11\n",
       "1      18     11\n",
       "2      17     10\n",
       "3      19      9\n",
       "4      20      4\n",
       "5      22      2\n",
       "6      21      2\n",
       "7      15      1"
      ]
     },
     "execution_count": 4,
     "metadata": {},
     "output_type": "execute_result"
    }
   ],
   "source": [
    "\n",
    "frecuencia = dataset['Edades'].value_counts().reset_index()\n",
    "\n",
    "frecuencia"
   ]
  },
  {
   "cell_type": "code",
   "execution_count": 5,
   "metadata": {},
   "outputs": [
    {
     "data": {
      "text/html": [
       "<div>\n",
       "<style scoped>\n",
       "    .dataframe tbody tr th:only-of-type {\n",
       "        vertical-align: middle;\n",
       "    }\n",
       "\n",
       "    .dataframe tbody tr th {\n",
       "        vertical-align: top;\n",
       "    }\n",
       "\n",
       "    .dataframe thead th {\n",
       "        text-align: right;\n",
       "    }\n",
       "</style>\n",
       "<table border=\"1\" class=\"dataframe\">\n",
       "  <thead>\n",
       "    <tr style=\"text-align: right;\">\n",
       "      <th></th>\n",
       "      <th>Edades</th>\n",
       "      <th>Frecuencia_absoluta</th>\n",
       "      <th>Frecuencia_acomulada_absoluta</th>\n",
       "      <th>Frecuencia_relativa</th>\n",
       "      <th>Frecuencia_acomulada_relativa</th>\n",
       "    </tr>\n",
       "  </thead>\n",
       "  <tbody>\n",
       "    <tr>\n",
       "      <th>0</th>\n",
       "      <td>16</td>\n",
       "      <td>11</td>\n",
       "      <td>11</td>\n",
       "      <td>0.22</td>\n",
       "      <td>0.22</td>\n",
       "    </tr>\n",
       "    <tr>\n",
       "      <th>1</th>\n",
       "      <td>18</td>\n",
       "      <td>11</td>\n",
       "      <td>22</td>\n",
       "      <td>0.22</td>\n",
       "      <td>0.44</td>\n",
       "    </tr>\n",
       "    <tr>\n",
       "      <th>2</th>\n",
       "      <td>17</td>\n",
       "      <td>10</td>\n",
       "      <td>32</td>\n",
       "      <td>0.20</td>\n",
       "      <td>0.64</td>\n",
       "    </tr>\n",
       "    <tr>\n",
       "      <th>3</th>\n",
       "      <td>19</td>\n",
       "      <td>9</td>\n",
       "      <td>41</td>\n",
       "      <td>0.18</td>\n",
       "      <td>0.82</td>\n",
       "    </tr>\n",
       "    <tr>\n",
       "      <th>4</th>\n",
       "      <td>20</td>\n",
       "      <td>4</td>\n",
       "      <td>45</td>\n",
       "      <td>0.08</td>\n",
       "      <td>0.90</td>\n",
       "    </tr>\n",
       "    <tr>\n",
       "      <th>5</th>\n",
       "      <td>22</td>\n",
       "      <td>2</td>\n",
       "      <td>47</td>\n",
       "      <td>0.04</td>\n",
       "      <td>0.94</td>\n",
       "    </tr>\n",
       "    <tr>\n",
       "      <th>6</th>\n",
       "      <td>21</td>\n",
       "      <td>2</td>\n",
       "      <td>49</td>\n",
       "      <td>0.04</td>\n",
       "      <td>0.98</td>\n",
       "    </tr>\n",
       "    <tr>\n",
       "      <th>7</th>\n",
       "      <td>15</td>\n",
       "      <td>1</td>\n",
       "      <td>50</td>\n",
       "      <td>0.02</td>\n",
       "      <td>1.00</td>\n",
       "    </tr>\n",
       "  </tbody>\n",
       "</table>\n",
       "</div>"
      ],
      "text/plain": [
       "   Edades  Frecuencia_absoluta  Frecuencia_acomulada_absoluta  \\\n",
       "0      16                   11                             11   \n",
       "1      18                   11                             22   \n",
       "2      17                   10                             32   \n",
       "3      19                    9                             41   \n",
       "4      20                    4                             45   \n",
       "5      22                    2                             47   \n",
       "6      21                    2                             49   \n",
       "7      15                    1                             50   \n",
       "\n",
       "   Frecuencia_relativa  Frecuencia_acomulada_relativa  \n",
       "0                 0.22                           0.22  \n",
       "1                 0.22                           0.44  \n",
       "2                 0.20                           0.64  \n",
       "3                 0.18                           0.82  \n",
       "4                 0.08                           0.90  \n",
       "5                 0.04                           0.94  \n",
       "6                 0.04                           0.98  \n",
       "7                 0.02                           1.00  "
      ]
     },
     "execution_count": 5,
     "metadata": {},
     "output_type": "execute_result"
    }
   ],
   "source": [
    "\n",
    "frecuencia.columns=['Edades', 'Frecuencia_absoluta']\n",
    "\n",
    "\n",
    "frecuencia['Frecuencia_acomulada_absoluta'] = frecuencia['Frecuencia_absoluta'].cumsum()\n",
    "\n",
    "\n",
    "suma_acumulada = frecuencia['Frecuencia_absoluta'].sum()\n",
    "\n",
    "frecuencia['Frecuencia_relativa'] = frecuencia['Frecuencia_absoluta']/suma_acumulada\n",
    "\n",
    "frecuencia['Frecuencia_acomulada_relativa'] = frecuencia['Frecuencia_relativa'].cumsum()\n",
    "\n",
    "frecuencia"
   ]
  },
  {
   "cell_type": "code",
   "execution_count": 6,
   "metadata": {},
   "outputs": [
    {
     "data": {
      "image/png": "[encoded data removed]",
      "text/plain": [
       "<Figure size 640x480 with 1 Axes>"
      ]
     },
     "metadata": {},
     "output_type": "display_data"
    }
   ],
   "source": [
    "\n",
    "fig, ax = plt.subplots()\n",
    "plt.title('Edades vs Frecuencia absoluta')\n",
    "plt.xlabel('Edades')\n",
    "plt.ylabel('Frecuencia_absoluta')\n",
    "ax.bar(frecuencia['Edades'].astype(str), frecuencia['Frecuencia_absoluta'], color='green') #Cambiar tipo de grafica\n",
    "plt.xticks(rotation=45)\n",
    "plt.show()"
   ]
  },
  {
   "cell_type": "code",
   "execution_count": 7,
   "metadata": {},
   "outputs": [
    {
     "data": {
      "image/png": "[encoded data removed]",
      "text/plain": [
       "<Figure size 640x480 with 1 Axes>"
      ]
     },
     "metadata": {},
     "output_type": "display_data"
    }
   ],
   "source": [
    "fig, ax = plt.subplots()\n",
    "plt.title('Edades vs Frecuencia relativa')\n",
    "edad = frecuencia['Edades'].astype(str)\n",
    "frecuencia_relativa = frecuencia['Frecuencia_relativa']\n",
    "ax.pie(frecuencia_relativa, labels=edad,  autopct='%1.1f%%')\n",
    "plt.show()"
   ]
  },
  {
   "cell_type": "code",
   "execution_count": 12,
   "metadata": {},
   "outputs": [
    {
     "name": "stdout",
     "output_type": "stream",
     "text": [
      "La media de las edades es:  :  17.92\n",
      "La mediana de las edades es  :  18.0\n",
      "La edad minima es  :  15\n",
      "La edad maxima es  :  22\n",
      "La moda es  :  16\n",
      "La varianza es :  2.809795918367347\n"
     ]
    }
   ],
   "source": [
    "media = dataset['Edades'].mean()\n",
    "mediana = dataset['Edades'].median()\n",
    "minimo = dataset['Edades'].min()\n",
    "maximo = dataset['Edades'].max()\n",
    "moda = dataset['Edades'].mode()[0]\n",
    "varianza = dataset['Edades'].var()\n",
    "\n",
    "print(\"La media de las edades es:  : \", media)\n",
    "print(\"La mediana de las edades es  : \", mediana)\n",
    "print(\"La edad minima es  : \", minimo)\n",
    "print(\"La edad maxima es  : \", maximo)\n",
    "print(\"La moda es  : \", moda)\n",
    "print(\"La varianza es : \", varianza)\n",
    "\n"
   ]
  },
  {
   "cell_type": "markdown",
   "metadata": {},
   "source": [
    "En conclusión al graficar la frecuencia absoluta y relativa de las edades, se puede visualizar la distribución de manera clara y comprensible. La frecuencia absoluta nos muestra cuántas veces aparece cada edad en el conjunto de datos, mientras que la frecuencia relativa nos proporciona una perspectiva de la distribución de estas edades en términos de porcentajes del total. Además al calcular las estadísticas descriptivas, se puede evidenciar que la media de las edades es de aproximadamente 17.92, la mediana de las edades es de aproximdamente 18.0, la edad mínima registrada 15, mientras que la edad máxima es de 22. Para finalizar en cuanto a la moda encontramos que la edad más repetida es 16  y la varianza nos indica que hay una dispersión de datos de 2.809795918367347.\n"
   ]
  }
 ],
 "metadata": {
  "kernelspec": {
   "display_name": "Python 3",
   "language": "python",
   "name": "python3"
  },
  "language_info": {
   "codemirror_mode": {
    "name": "ipython",
    "version": 3
   },
   "file_extension": ".py",
   "mimetype": "text/x-python",
   "name": "python",
   "nbconvert_exporter": "python",
   "pygments_lexer": "ipython3",
   "version": "3.10.11"
  }
 },
 "nbformat": 4,
 "nbformat_minor": 2
}
