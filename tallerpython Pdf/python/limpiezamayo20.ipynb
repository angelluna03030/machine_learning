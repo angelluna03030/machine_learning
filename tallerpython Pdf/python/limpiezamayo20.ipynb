{
 "cells": [
  {
   "cell_type": "code",
   "execution_count": 1,
   "metadata": {},
   "outputs": [],
   "source": [
    "\n",
    "import pandas as pd\n",
    "import numpy as np\n",
    "import matplotlib as plt\n",
    "import seaborn as sns\n"
   ]
  },
  {
   "cell_type": "code",
   "execution_count": 2,
   "metadata": {},
   "outputs": [],
   "source": [
    "data = pd.read_csv(\"dataset_banco.csv\")"
   ]
  },
  {
   "cell_type": "code",
   "execution_count": 3,
   "metadata": {},
   "outputs": [
    {
     "name": "stdout",
     "output_type": "stream",
     "text": [
      "<class 'pandas.core.frame.DataFrame'>\n",
      "RangeIndex: 45215 entries, 0 to 45214\n",
      "Data columns (total 17 columns):\n",
      " #   Column     Non-Null Count  Dtype  \n",
      "---  ------     --------------  -----  \n",
      " 0   age        45215 non-null  int64  \n",
      " 1   job        45213 non-null  object \n",
      " 2   marital    45214 non-null  object \n",
      " 3   education  45214 non-null  object \n",
      " 4   default    45215 non-null  object \n",
      " 5   balance    45213 non-null  float64\n",
      " 6   housing    45215 non-null  object \n",
      " 7   loan       45215 non-null  object \n",
      " 8   contact    45215 non-null  object \n",
      " 9   day        45215 non-null  int64  \n",
      " 10  month      45215 non-null  object \n",
      " 11  duration   45214 non-null  float64\n",
      " 12  campaign   45215 non-null  int64  \n",
      " 13  pdays      45214 non-null  float64\n",
      " 14  previous   45215 non-null  int64  \n",
      " 15  poutcome   45215 non-null  object \n",
      " 16  y          45215 non-null  object \n",
      "dtypes: float64(3), int64(4), object(10)\n",
      "memory usage: 5.9+ MB\n"
     ]
    }
   ],
   "source": [
    "data.info()"
   ]
  },
  {
   "cell_type": "code",
   "execution_count": 5,
   "metadata": {},
   "outputs": [
    {
     "name": "stderr",
     "output_type": "stream",
     "text": [
      "C:\\Users\\angel\\AppData\\Local\\Temp\\ipykernel_30444\\375774667.py:1: DeprecationWarning: `import pandas_profiling` is going to be deprecated by April 1st. Please use `import ydata_profiling` instead.\n",
      "  from pandas_profiling import ProfileReport\n"
     ]
    },
    {
     "data": {
      "application/vnd.jupyter.widget-view+json": {
       "model_id": "0dbb85a9b5624d00b427dfe450c10d36",
       "version_major": 2,
       "version_minor": 0
      },
      "text/plain": [
       "Summarize dataset:   0%|          | 0/5 [00:00<?, ?it/s]"
      ]
     },
     "metadata": {},
     "output_type": "display_data"
    },
    {
     "name": "stderr",
     "output_type": "stream",
     "text": [
      "C:\\Users\\angel\\AppData\\Local\\Packages\\PythonSoftwareFoundation.Python.3.12_qbz5n2kfra8p0\\LocalCache\\local-packages\\Python312\\site-packages\\ydata_profiling\\model\\correlations.py:66: UserWarning: There was an attempt to calculate the auto correlation, but this failed.\n",
      "To hide this warning, disable the calculation\n",
      "(using `df.profile_report(correlations={\"auto\": {\"calculate\": False}})`\n",
      "If this is problematic for your use case, please report this as an issue:\n",
      "https://github.com/ydataai/ydata-profiling/issues\n",
      "(include the error message: 'could not convert string to float: 'unknown'')\n",
      "  warnings.warn(\n"
     ]
    },
    {
     "data": {
      "application/vnd.jupyter.widget-view+json": {
       "model_id": "64db0fbf5e98406099f7a093a90907f8",
       "version_major": 2,
       "version_minor": 0
      },
      "text/plain": [
       "Generate report structure:   0%|          | 0/1 [00:00<?, ?it/s]"
      ]
     },
     "metadata": {},
     "output_type": "display_data"
    },
    {
     "data": {
      "application/vnd.jupyter.widget-view+json": {
       "model_id": "13b4ee9f91bc4f8c8f419b88d11d5b42",
       "version_major": 2,
       "version_minor": 0
      },
      "text/plain": [
       "Render HTML:   0%|          | 0/1 [00:00<?, ?it/s]"
      ]
     },
     "metadata": {},
     "output_type": "display_data"
    },
    {
     "data": {
      "application/vnd.jupyter.widget-view+json": {
       "model_id": "ad87b32d524f4988bcf8e6f70cc317e3",
       "version_major": 2,
       "version_minor": 0
      },
      "text/plain": [
       "Export report to file:   0%|          | 0/1 [00:00<?, ?it/s]"
      ]
     },
     "metadata": {},
     "output_type": "display_data"
    }
   ],
   "source": [
    "from pandas_profiling import ProfileReport\n",
    "report = ProfileReport(data)\n",
    "report.to_file(output_file='reporte1.html')"
   ]
  },
  {
   "cell_type": "code",
   "execution_count": 6,
   "metadata": {},
   "outputs": [
    {
     "name": "stdout",
     "output_type": "stream",
     "text": [
      "<class 'pandas.core.frame.DataFrame'>\n",
      "Index: 45207 entries, 0 to 45214\n",
      "Data columns (total 17 columns):\n",
      " #   Column     Non-Null Count  Dtype  \n",
      "---  ------     --------------  -----  \n",
      " 0   age        45207 non-null  int64  \n",
      " 1   job        45207 non-null  object \n",
      " 2   marital    45207 non-null  object \n",
      " 3   education  45207 non-null  object \n",
      " 4   default    45207 non-null  object \n",
      " 5   balance    45207 non-null  float64\n",
      " 6   housing    45207 non-null  object \n",
      " 7   loan       45207 non-null  object \n",
      " 8   contact    45207 non-null  object \n",
      " 9   day        45207 non-null  int64  \n",
      " 10  month      45207 non-null  object \n",
      " 11  duration   45207 non-null  float64\n",
      " 12  campaign   45207 non-null  int64  \n",
      " 13  pdays      45207 non-null  float64\n",
      " 14  previous   45207 non-null  int64  \n",
      " 15  poutcome   45207 non-null  object \n",
      " 16  y          45207 non-null  object \n",
      "dtypes: float64(3), int64(4), object(10)\n",
      "memory usage: 6.2+ MB\n"
     ]
    }
   ],
   "source": [
    "#Eliminar valores nulos\n",
    "data= data.dropna()\n",
    "data.info()"
   ]
  },
  {
   "cell_type": "code",
   "execution_count": 7,
   "metadata": {},
   "outputs": [
    {
     "data": {
      "text/html": [
       "<div>\n",
       "<style scoped>\n",
       "    .dataframe tbody tr th:only-of-type {\n",
       "        vertical-align: middle;\n",
       "    }\n",
       "\n",
       "    .dataframe tbody tr th {\n",
       "        vertical-align: top;\n",
       "    }\n",
       "\n",
       "    .dataframe thead th {\n",
       "        text-align: right;\n",
       "    }\n",
       "</style>\n",
       "<table border=\"1\" class=\"dataframe\">\n",
       "  <thead>\n",
       "    <tr style=\"text-align: right;\">\n",
       "      <th></th>\n",
       "      <th>age</th>\n",
       "      <th>job</th>\n",
       "      <th>marital</th>\n",
       "      <th>education</th>\n",
       "      <th>default</th>\n",
       "      <th>balance</th>\n",
       "      <th>housing</th>\n",
       "      <th>loan</th>\n",
       "      <th>contact</th>\n",
       "      <th>day</th>\n",
       "      <th>month</th>\n",
       "      <th>duration</th>\n",
       "      <th>campaign</th>\n",
       "      <th>pdays</th>\n",
       "      <th>previous</th>\n",
       "      <th>poutcome</th>\n",
       "      <th>y</th>\n",
       "    </tr>\n",
       "  </thead>\n",
       "  <tbody>\n",
       "    <tr>\n",
       "      <th>3</th>\n",
       "      <td>47</td>\n",
       "      <td>blue-collar</td>\n",
       "      <td>married</td>\n",
       "      <td>unknown</td>\n",
       "      <td>no</td>\n",
       "      <td>1506.0</td>\n",
       "      <td>yes</td>\n",
       "      <td>no</td>\n",
       "      <td>unknown</td>\n",
       "      <td>5</td>\n",
       "      <td>may</td>\n",
       "      <td>92.0</td>\n",
       "      <td>1</td>\n",
       "      <td>-1.0</td>\n",
       "      <td>0</td>\n",
       "      <td>unknown</td>\n",
       "      <td>no</td>\n",
       "    </tr>\n",
       "    <tr>\n",
       "      <th>17</th>\n",
       "      <td>57</td>\n",
       "      <td>blue-collar</td>\n",
       "      <td>married</td>\n",
       "      <td>primary</td>\n",
       "      <td>no</td>\n",
       "      <td>52.0</td>\n",
       "      <td>yes</td>\n",
       "      <td>no</td>\n",
       "      <td>unknown</td>\n",
       "      <td>5</td>\n",
       "      <td>may</td>\n",
       "      <td>38.0</td>\n",
       "      <td>1</td>\n",
       "      <td>-1.0</td>\n",
       "      <td>0</td>\n",
       "      <td>unknown</td>\n",
       "      <td>no</td>\n",
       "    </tr>\n",
       "    <tr>\n",
       "      <th>20</th>\n",
       "      <td>28</td>\n",
       "      <td>blue-collar</td>\n",
       "      <td>married</td>\n",
       "      <td>secondary</td>\n",
       "      <td>no</td>\n",
       "      <td>723.0</td>\n",
       "      <td>yes</td>\n",
       "      <td>yes</td>\n",
       "      <td>unknown</td>\n",
       "      <td>5</td>\n",
       "      <td>may</td>\n",
       "      <td>262.0</td>\n",
       "      <td>1</td>\n",
       "      <td>-1.0</td>\n",
       "      <td>0</td>\n",
       "      <td>unknown</td>\n",
       "      <td>no</td>\n",
       "    </tr>\n",
       "    <tr>\n",
       "      <th>22</th>\n",
       "      <td>32</td>\n",
       "      <td>blue-collar</td>\n",
       "      <td>single</td>\n",
       "      <td>primary</td>\n",
       "      <td>no</td>\n",
       "      <td>23.0</td>\n",
       "      <td>yes</td>\n",
       "      <td>yes</td>\n",
       "      <td>unknown</td>\n",
       "      <td>5</td>\n",
       "      <td>may</td>\n",
       "      <td>160.0</td>\n",
       "      <td>1</td>\n",
       "      <td>-1.0</td>\n",
       "      <td>0</td>\n",
       "      <td>unknown</td>\n",
       "      <td>no</td>\n",
       "    </tr>\n",
       "    <tr>\n",
       "      <th>33</th>\n",
       "      <td>59</td>\n",
       "      <td>blue-collar</td>\n",
       "      <td>married</td>\n",
       "      <td>secondary</td>\n",
       "      <td>no</td>\n",
       "      <td>0.0</td>\n",
       "      <td>yes</td>\n",
       "      <td>no</td>\n",
       "      <td>unknown</td>\n",
       "      <td>5</td>\n",
       "      <td>may</td>\n",
       "      <td>226.0</td>\n",
       "      <td>1</td>\n",
       "      <td>-1.0</td>\n",
       "      <td>0</td>\n",
       "      <td>unknown</td>\n",
       "      <td>no</td>\n",
       "    </tr>\n",
       "    <tr>\n",
       "      <th>...</th>\n",
       "      <td>...</td>\n",
       "      <td>...</td>\n",
       "      <td>...</td>\n",
       "      <td>...</td>\n",
       "      <td>...</td>\n",
       "      <td>...</td>\n",
       "      <td>...</td>\n",
       "      <td>...</td>\n",
       "      <td>...</td>\n",
       "      <td>...</td>\n",
       "      <td>...</td>\n",
       "      <td>...</td>\n",
       "      <td>...</td>\n",
       "      <td>...</td>\n",
       "      <td>...</td>\n",
       "      <td>...</td>\n",
       "      <td>...</td>\n",
       "    </tr>\n",
       "    <tr>\n",
       "      <th>45181</th>\n",
       "      <td>34</td>\n",
       "      <td>blue-collar</td>\n",
       "      <td>married</td>\n",
       "      <td>secondary</td>\n",
       "      <td>no</td>\n",
       "      <td>320.0</td>\n",
       "      <td>yes</td>\n",
       "      <td>no</td>\n",
       "      <td>cellular</td>\n",
       "      <td>12</td>\n",
       "      <td>nov</td>\n",
       "      <td>413.0</td>\n",
       "      <td>1</td>\n",
       "      <td>92.0</td>\n",
       "      <td>3</td>\n",
       "      <td>success</td>\n",
       "      <td>yes</td>\n",
       "    </tr>\n",
       "    <tr>\n",
       "      <th>45184</th>\n",
       "      <td>46</td>\n",
       "      <td>blue-collar</td>\n",
       "      <td>married</td>\n",
       "      <td>secondary</td>\n",
       "      <td>no</td>\n",
       "      <td>6879.0</td>\n",
       "      <td>no</td>\n",
       "      <td>no</td>\n",
       "      <td>cellular</td>\n",
       "      <td>15</td>\n",
       "      <td>nov</td>\n",
       "      <td>74.0</td>\n",
       "      <td>2</td>\n",
       "      <td>118.0</td>\n",
       "      <td>3</td>\n",
       "      <td>failure</td>\n",
       "      <td>no</td>\n",
       "    </tr>\n",
       "    <tr>\n",
       "      <th>45193</th>\n",
       "      <td>32</td>\n",
       "      <td>blue-collar</td>\n",
       "      <td>married</td>\n",
       "      <td>secondary</td>\n",
       "      <td>no</td>\n",
       "      <td>136.0</td>\n",
       "      <td>no</td>\n",
       "      <td>no</td>\n",
       "      <td>cellular</td>\n",
       "      <td>16</td>\n",
       "      <td>nov</td>\n",
       "      <td>206.0</td>\n",
       "      <td>1</td>\n",
       "      <td>188.0</td>\n",
       "      <td>3</td>\n",
       "      <td>success</td>\n",
       "      <td>yes</td>\n",
       "    </tr>\n",
       "    <tr>\n",
       "      <th>45202</th>\n",
       "      <td>34</td>\n",
       "      <td>blue-collar</td>\n",
       "      <td>single</td>\n",
       "      <td>secondary</td>\n",
       "      <td>no</td>\n",
       "      <td>1475.0</td>\n",
       "      <td>yes</td>\n",
       "      <td>no</td>\n",
       "      <td>cellular</td>\n",
       "      <td>16</td>\n",
       "      <td>nov</td>\n",
       "      <td>1166.0</td>\n",
       "      <td>3</td>\n",
       "      <td>530.0</td>\n",
       "      <td>12</td>\n",
       "      <td>other</td>\n",
       "      <td>no</td>\n",
       "    </tr>\n",
       "    <tr>\n",
       "      <th>45213</th>\n",
       "      <td>57</td>\n",
       "      <td>blue-collar</td>\n",
       "      <td>married</td>\n",
       "      <td>secondary</td>\n",
       "      <td>no</td>\n",
       "      <td>668.0</td>\n",
       "      <td>no</td>\n",
       "      <td>no</td>\n",
       "      <td>telephone</td>\n",
       "      <td>17</td>\n",
       "      <td>nov</td>\n",
       "      <td>508.0</td>\n",
       "      <td>4</td>\n",
       "      <td>-1.0</td>\n",
       "      <td>0</td>\n",
       "      <td>unknown</td>\n",
       "      <td>no</td>\n",
       "    </tr>\n",
       "  </tbody>\n",
       "</table>\n",
       "<p>9730 rows × 17 columns</p>\n",
       "</div>"
      ],
      "text/plain": [
       "       age          job  marital  education default  balance housing loan  \\\n",
       "3       47  blue-collar  married    unknown      no   1506.0     yes   no   \n",
       "17      57  blue-collar  married    primary      no     52.0     yes   no   \n",
       "20      28  blue-collar  married  secondary      no    723.0     yes  yes   \n",
       "22      32  blue-collar   single    primary      no     23.0     yes  yes   \n",
       "33      59  blue-collar  married  secondary      no      0.0     yes   no   \n",
       "...    ...          ...      ...        ...     ...      ...     ...  ...   \n",
       "45181   34  blue-collar  married  secondary      no    320.0     yes   no   \n",
       "45184   46  blue-collar  married  secondary      no   6879.0      no   no   \n",
       "45193   32  blue-collar  married  secondary      no    136.0      no   no   \n",
       "45202   34  blue-collar   single  secondary      no   1475.0     yes   no   \n",
       "45213   57  blue-collar  married  secondary      no    668.0      no   no   \n",
       "\n",
       "         contact  day month  duration  campaign  pdays  previous poutcome    y  \n",
       "3        unknown    5   may      92.0         1   -1.0         0  unknown   no  \n",
       "17       unknown    5   may      38.0         1   -1.0         0  unknown   no  \n",
       "20       unknown    5   may     262.0         1   -1.0         0  unknown   no  \n",
       "22       unknown    5   may     160.0         1   -1.0         0  unknown   no  \n",
       "33       unknown    5   may     226.0         1   -1.0         0  unknown   no  \n",
       "...          ...  ...   ...       ...       ...    ...       ...      ...  ...  \n",
       "45181   cellular   12   nov     413.0         1   92.0         3  success  yes  \n",
       "45184   cellular   15   nov      74.0         2  118.0         3  failure   no  \n",
       "45193   cellular   16   nov     206.0         1  188.0         3  success  yes  \n",
       "45202   cellular   16   nov    1166.0         3  530.0        12    other   no  \n",
       "45213  telephone   17   nov     508.0         4   -1.0         0  unknown   no  \n",
       "\n",
       "[9730 rows x 17 columns]"
      ]
     },
     "execution_count": 7,
     "metadata": {},
     "output_type": "execute_result"
    }
   ],
   "source": [
    "#Hacer Consultas\n",
    "data[data[\"job\"]==\"blue-collar\"]"
   ]
  },
  {
   "cell_type": "code",
   "execution_count": 8,
   "metadata": {},
   "outputs": [
    {
     "name": "stderr",
     "output_type": "stream",
     "text": [
      "C:\\Users\\angel\\AppData\\Local\\Temp\\ipykernel_30444\\1471378453.py:3: SettingWithCopyWarning: \n",
      "A value is trying to be set on a copy of a slice from a DataFrame\n",
      "\n",
      "See the caveats in the documentation: https://pandas.pydata.org/pandas-docs/stable/user_guide/indexing.html#returning-a-view-versus-a-copy\n",
      "  data.drop(columns=\"campaign\", inplace=True)\n",
      "C:\\Users\\angel\\AppData\\Local\\Temp\\ipykernel_30444\\1471378453.py:4: SettingWithCopyWarning: \n",
      "A value is trying to be set on a copy of a slice from a DataFrame\n",
      "\n",
      "See the caveats in the documentation: https://pandas.pydata.org/pandas-docs/stable/user_guide/indexing.html#returning-a-view-versus-a-copy\n",
      "  data.drop(columns=\"pdays\", inplace=True)\n"
     ]
    }
   ],
   "source": [
    "# Borrar columnas irrelevantes\n",
    "#data.drop(columns=\"duration\", inplace=True)\n",
    "data.drop(columns=\"campaign\", inplace=True)\n",
    "data.drop(columns=\"pdays\", inplace=True)\n",
    "# data.info()"
   ]
  },
  {
   "cell_type": "code",
   "execution_count": 9,
   "metadata": {},
   "outputs": [
    {
     "name": "stderr",
     "output_type": "stream",
     "text": [
      "C:\\Users\\angel\\AppData\\Local\\Temp\\ipykernel_30444\\4263136716.py:2: SettingWithCopyWarning: \n",
      "A value is trying to be set on a copy of a slice from a DataFrame\n",
      "\n",
      "See the caveats in the documentation: https://pandas.pydata.org/pandas-docs/stable/user_guide/indexing.html#returning-a-view-versus-a-copy\n",
      "  data.drop_duplicates(inplace=True)\n"
     ]
    }
   ],
   "source": [
    "#Eliminar Columnas Repetidas\n",
    "data.drop_duplicates(inplace=True)"
   ]
  },
  {
   "cell_type": "code",
   "execution_count": 10,
   "metadata": {},
   "outputs": [],
   "source": [
    "#Eliminar Valores Extremos\n",
    "\n",
    "#Informacion valores numericos para analizar\n",
    "data.describe()\n",
    "\n",
    "#Consulta de personas con edades mayores a 100\n",
    "data[data[\"age\"]>100]\n",
    "\n",
    "#Si lo mejor es renombrar data y eliminar datos, manteniendo los que son menores de 100 años\n",
    "data=data[data[\"age\"]<100]"
   ]
  },
  {
   "cell_type": "code",
   "execution_count": 11,
   "metadata": {},
   "outputs": [
    {
     "data": {
      "text/html": [
       "<div>\n",
       "<style scoped>\n",
       "    .dataframe tbody tr th:only-of-type {\n",
       "        vertical-align: middle;\n",
       "    }\n",
       "\n",
       "    .dataframe tbody tr th {\n",
       "        vertical-align: top;\n",
       "    }\n",
       "\n",
       "    .dataframe thead th {\n",
       "        text-align: right;\n",
       "    }\n",
       "</style>\n",
       "<table border=\"1\" class=\"dataframe\">\n",
       "  <thead>\n",
       "    <tr style=\"text-align: right;\">\n",
       "      <th></th>\n",
       "      <th>age</th>\n",
       "      <th>balance</th>\n",
       "      <th>day</th>\n",
       "      <th>duration</th>\n",
       "      <th>previous</th>\n",
       "    </tr>\n",
       "  </thead>\n",
       "  <tbody>\n",
       "    <tr>\n",
       "      <th>count</th>\n",
       "      <td>45194.000000</td>\n",
       "      <td>45194.000000</td>\n",
       "      <td>45194.000000</td>\n",
       "      <td>45194.000000</td>\n",
       "      <td>45194.000000</td>\n",
       "    </tr>\n",
       "    <tr>\n",
       "      <th>mean</th>\n",
       "      <td>40.936629</td>\n",
       "      <td>1374.022193</td>\n",
       "      <td>15.807076</td>\n",
       "      <td>258.044276</td>\n",
       "      <td>0.574103</td>\n",
       "    </tr>\n",
       "    <tr>\n",
       "      <th>std</th>\n",
       "      <td>10.618357</td>\n",
       "      <td>3924.214157</td>\n",
       "      <td>8.322735</td>\n",
       "      <td>257.486374</td>\n",
       "      <td>1.907854</td>\n",
       "    </tr>\n",
       "    <tr>\n",
       "      <th>min</th>\n",
       "      <td>18.000000</td>\n",
       "      <td>-8019.000000</td>\n",
       "      <td>1.000000</td>\n",
       "      <td>-1389.000000</td>\n",
       "      <td>0.000000</td>\n",
       "    </tr>\n",
       "    <tr>\n",
       "      <th>25%</th>\n",
       "      <td>33.000000</td>\n",
       "      <td>72.000000</td>\n",
       "      <td>8.000000</td>\n",
       "      <td>103.000000</td>\n",
       "      <td>0.000000</td>\n",
       "    </tr>\n",
       "    <tr>\n",
       "      <th>50%</th>\n",
       "      <td>39.000000</td>\n",
       "      <td>448.000000</td>\n",
       "      <td>16.000000</td>\n",
       "      <td>180.000000</td>\n",
       "      <td>0.000000</td>\n",
       "    </tr>\n",
       "    <tr>\n",
       "      <th>75%</th>\n",
       "      <td>48.000000</td>\n",
       "      <td>1427.750000</td>\n",
       "      <td>21.000000</td>\n",
       "      <td>319.000000</td>\n",
       "      <td>0.000000</td>\n",
       "    </tr>\n",
       "    <tr>\n",
       "      <th>max</th>\n",
       "      <td>95.000000</td>\n",
       "      <td>527532.000000</td>\n",
       "      <td>31.000000</td>\n",
       "      <td>4918.000000</td>\n",
       "      <td>58.000000</td>\n",
       "    </tr>\n",
       "  </tbody>\n",
       "</table>\n",
       "</div>"
      ],
      "text/plain": [
       "                age        balance           day      duration      previous\n",
       "count  45194.000000   45194.000000  45194.000000  45194.000000  45194.000000\n",
       "mean      40.936629    1374.022193     15.807076    258.044276      0.574103\n",
       "std       10.618357    3924.214157      8.322735    257.486374      1.907854\n",
       "min       18.000000   -8019.000000      1.000000  -1389.000000      0.000000\n",
       "25%       33.000000      72.000000      8.000000    103.000000      0.000000\n",
       "50%       39.000000     448.000000     16.000000    180.000000      0.000000\n",
       "75%       48.000000    1427.750000     21.000000    319.000000      0.000000\n",
       "max       95.000000  527532.000000     31.000000   4918.000000     58.000000"
      ]
     },
     "execution_count": 11,
     "metadata": {},
     "output_type": "execute_result"
    }
   ],
   "source": [
    "#Eliminando valores extremos\n",
    "data[data[\"previous\"]>200]\n",
    "#Eliminar por index (otra forma de eliminar)\n",
    "data.drop(index=29184, inplace=True)\n",
    "data.describe()"
   ]
  },
  {
   "cell_type": "code",
   "execution_count": 12,
   "metadata": {},
   "outputs": [
    {
     "data": {
      "text/plain": [
       "array(['married', 'single', 'divorced'], dtype=object)"
      ]
     },
     "execution_count": 12,
     "metadata": {},
     "output_type": "execute_result"
    }
   ],
   "source": [
    "#Variables con errores tipograficos\n",
    "\n",
    "#Los datos del campo marital que tiene errores son remplazados por los campos que necesitamos\n",
    "data[\"marital\"]=data[\"marital\"].str.replace(\"div.\", \"divorced\", regex=False)\n",
    "data[\"marital\"]=data[\"marital\"].str.replace(\"DIVORCED\", \"divorced\", regex=False)\n",
    "data[\"marital\"]=data[\"marital\"].str.replace(\"Single\", \"single\", regex=False)\n",
    "\n",
    "data[\"marital\"].unique()#muestras los valores unicos de agrupamiento(si no tenemos graficas)"
   ]
  },
  {
   "cell_type": "code",
   "execution_count": 13,
   "metadata": {},
   "outputs": [],
   "source": [
    "data[\"education\"].unique()#muestras los valores unicos de agrupamiento(si no tenemos graficas)\n",
    "\n",
    "data[\"education\"]=data[\"education\"].str.replace(\"Tertiary\", \"tertiary\", regex=False)\n",
    "data[\"education\"]=data[\"education\"].str.replace(\"Secondary\", \"secondary\", regex=False)\n",
    "data[\"education\"]=data[\"education\"].str.replace(\"sec.\", \"secondary\", regex=False)\n",
    "data[\"education\"]=data[\"education\"].str.replace(\"SECONDARY\", \"secondary\", regex=False)\n",
    "data[\"education\"]=data[\"education\"].str.replace(\"Primary\", \"primary\", regex=False)\n",
    "data[\"education\"]=data[\"education\"].str.replace(\"UNK\", \"unknown\", regex=False)\n"
   ]
  },
  {
   "cell_type": "code",
   "execution_count": 14,
   "metadata": {},
   "outputs": [
    {
     "data": {
      "text/plain": [
       "array(['tertiary', 'secondary', 'unknown', 'primary'], dtype=object)"
      ]
     },
     "execution_count": 14,
     "metadata": {},
     "output_type": "execute_result"
    }
   ],
   "source": [
    "data[\"education\"].unique()"
   ]
  },
  {
   "cell_type": "code",
   "execution_count": 15,
   "metadata": {},
   "outputs": [
    {
     "data": {
      "text/plain": [
       "array(['unknown', 'cellular', 'telephone', 'phone', 'mobile'],\n",
       "      dtype=object)"
      ]
     },
     "execution_count": 15,
     "metadata": {},
     "output_type": "execute_result"
    }
   ],
   "source": [
    "data[\"contact\"].unique()"
   ]
  },
  {
   "cell_type": "code",
   "execution_count": 16,
   "metadata": {},
   "outputs": [
    {
     "data": {
      "text/plain": [
       "array(['unknown', 'cellular', 'telephone'], dtype=object)"
      ]
     },
     "execution_count": 16,
     "metadata": {},
     "output_type": "execute_result"
    }
   ],
   "source": [
    "data[\"contact\"]=data[\"contact\"].str.replace(\"phone\", \"telephone\", regex=False)\n",
    "data[\"contact\"]=data[\"contact\"].str.replace(\"mobile\", \"cellular\", regex=False)\n",
    "data[\"contact\"]=data[\"contact\"].str.replace(\"teletelephone\", \"telephone\", regex=False)\n",
    "\n",
    "data[\"contact\"].unique()"
   ]
  },
  {
   "cell_type": "code",
   "execution_count": 17,
   "metadata": {},
   "outputs": [
    {
     "data": {
      "text/plain": [
       "array(['may', 'nov', 'jun', 'jul', 'aug', 'oct', 'dec', 'jan', 'feb',\n",
       "       'mar', 'apr', 'sep'], dtype=object)"
      ]
     },
     "execution_count": 17,
     "metadata": {},
     "output_type": "execute_result"
    }
   ],
   "source": [
    "data[\"month\"].unique()"
   ]
  },
  {
   "cell_type": "code",
   "execution_count": 18,
   "metadata": {},
   "outputs": [
    {
     "data": {
      "text/plain": [
       "array(['unknown', 'UNK', 'failure', 'other', 'success', 'Success'],\n",
       "      dtype=object)"
      ]
     },
     "execution_count": 18,
     "metadata": {},
     "output_type": "execute_result"
    }
   ],
   "source": [
    "data[\"poutcome\"].unique()"
   ]
  },
  {
   "cell_type": "code",
   "execution_count": 19,
   "metadata": {},
   "outputs": [
    {
     "data": {
      "text/plain": [
       "array(['unknown', 'failure', 'other', 'success'], dtype=object)"
      ]
     },
     "execution_count": 19,
     "metadata": {},
     "output_type": "execute_result"
    }
   ],
   "source": [
    "data[\"poutcome\"]=data[\"poutcome\"].str.replace(\"Success\", \"success\", regex=False)\n",
    "data[\"poutcome\"]=data[\"poutcome\"].str.replace(\"UNK\", \"unknown\", regex=False)\n",
    "\n",
    "data[\"poutcome\"].unique()"
   ]
  },
  {
   "cell_type": "code",
   "execution_count": 21,
   "metadata": {},
   "outputs": [],
   "source": [
    "data.to_excel(\"datosMayo20.xlsx\" , index=False)"
   ]
  },
  {
   "cell_type": "code",
   "execution_count": 24,
   "metadata": {},
   "outputs": [],
   "source": [
    "data.drop_duplicates(inplace=True)\n",
    "\n"
   ]
  },
  {
   "cell_type": "code",
   "execution_count": 26,
   "metadata": {},
   "outputs": [
    {
     "data": {
      "text/plain": [
       "<bound method DataFrame.info of        age           job   marital  education default  balance housing loan  \\\n",
       "0       58    management   married   tertiary      no   2143.0     yes   no   \n",
       "1       44    technician    single  secondary      no     29.0     yes   no   \n",
       "2       33  entrepreneur   married  secondary      no      2.0     yes  yes   \n",
       "3       47   blue-collar   married    unknown      no   1506.0     yes   no   \n",
       "4       33       unknown    single    unknown      no      1.0      no   no   \n",
       "...    ...           ...       ...        ...     ...      ...     ...  ...   \n",
       "45210   51    technician   married   tertiary      no    825.0      no   no   \n",
       "45211   71       retired  divorced    primary      no   1729.0      no   no   \n",
       "45212   72       retired   married  secondary      no   5715.0      no   no   \n",
       "45213   57   blue-collar   married  secondary      no    668.0      no   no   \n",
       "45214   37  entrepreneur   married  secondary      no   2971.0      no   no   \n",
       "\n",
       "         contact  day month  duration  previous poutcome    y  \n",
       "0        unknown    5   may     261.0         0  unknown   no  \n",
       "1        unknown    5   may     151.0         0  unknown   no  \n",
       "2        unknown    5   may      76.0         0  unknown   no  \n",
       "3        unknown    5   may      92.0         0  unknown   no  \n",
       "4        unknown    5   may     198.0         0  unknown   no  \n",
       "...          ...  ...   ...       ...       ...      ...  ...  \n",
       "45210   cellular   17   nov     977.0         0  unknown  yes  \n",
       "45211   cellular   17   nov     456.0         0  unknown  yes  \n",
       "45212   cellular   17   nov    1127.0         3  success  yes  \n",
       "45213  telephone   17   nov     508.0         0  unknown   no  \n",
       "45214   cellular   17   nov     361.0        11    other   no  \n",
       "\n",
       "[45194 rows x 15 columns]>"
      ]
     },
     "execution_count": 26,
     "metadata": {},
     "output_type": "execute_result"
    }
   ],
   "source": [
    "data.shape\n",
    "data.info"
   ]
  },
  {
   "cell_type": "markdown",
   "metadata": {},
   "source": []
  }
 ],
 "metadata": {
  "kernelspec": {
   "display_name": "Python 3",
   "language": "python",
   "name": "python3"
  },
  "language_info": {
   "codemirror_mode": {
    "name": "ipython",
    "version": 3
   },
   "file_extension": ".py",
   "mimetype": "text/x-python",
   "name": "python",
   "nbconvert_exporter": "python",
   "pygments_lexer": "ipython3",
   "version": "3.12.3"
  }
 },
 "nbformat": 4,
 "nbformat_minor": 2
}
